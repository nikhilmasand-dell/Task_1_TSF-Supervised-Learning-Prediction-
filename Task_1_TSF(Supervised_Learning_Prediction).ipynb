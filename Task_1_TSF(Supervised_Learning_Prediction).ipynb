{
  "nbformat": 4,
  "nbformat_minor": 0,
  "metadata": {
    "kernelspec": {
      "display_name": "Python 3",
      "language": "python",
      "name": "python3"
    },
    "language_info": {
      "codemirror_mode": {
        "name": "ipython",
        "version": 3
      },
      "file_extension": ".py",
      "mimetype": "text/x-python",
      "name": "python",
      "nbconvert_exporter": "python",
      "pygments_lexer": "ipython3",
      "version": "3.8.3"
    },
    "colab": {
      "name": "Task_1_TSF(Supervised Learning-Prediction).ipynb",
      "provenance": []
    }
  },
  "cells": [
    {
      "cell_type": "markdown",
      "metadata": {
        "id": "eayMhZnbRnA7"
      },
      "source": [
        "## Technical TASK 1 :- Prediction using Supervised ML\n",
        "In this task, we will predict the percentage of marks that a student is expected to score based upon the number of hours they studied. This is a simple linear regression task as it involves just two variables.\n",
        "#### Task Completed for The Sparks Foundation Internship Program\n",
        "#### Data Science & Business Analytics Internship Task_1\n",
        "###  Author: Nikhil Rajesh Masand\n",
        " "
      ]
    },
    {
      "cell_type": "markdown",
      "metadata": {
        "id": "dvg2ZPdJRnA-"
      },
      "source": [
        "### Step 0: Importing Libraries needed to perform simple Linear Regression"
      ]
    },
    {
      "cell_type": "code",
      "metadata": {
        "id": "fY55OyTlRnA_"
      },
      "source": [
        "import pandas as pd\n",
        "import numpy as np\n",
        "import matplotlib.pyplot as plt\n",
        "import seaborn as sns\n",
        "import sklearn\n",
        "from sklearn import linear_model\n",
        "from sklearn.utils import shuffle\n",
        "import pickle"
      ],
      "execution_count": null,
      "outputs": []
    },
    {
      "cell_type": "markdown",
      "metadata": {
        "id": "2OfzGH3ARnBB"
      },
      "source": [
        "### Step 1 : Reading Data from online source"
      ]
    },
    {
      "cell_type": "code",
      "metadata": {
        "id": "EBSeRdJ2RnBC",
        "colab": {
          "base_uri": "https://localhost:8080/",
          "height": 357
        },
        "outputId": "7cf584eb-c603-46b6-bc1e-0b2ce5daaefc"
      },
      "source": [
        "### Reading data from remote link\n",
        "data = pd.read_csv('http://bit.ly/w-data')\n",
        "data.head(10)"
      ],
      "execution_count": null,
      "outputs": [
        {
          "output_type": "execute_result",
          "data": {
            "text/html": [
              "<div>\n",
              "<style scoped>\n",
              "    .dataframe tbody tr th:only-of-type {\n",
              "        vertical-align: middle;\n",
              "    }\n",
              "\n",
              "    .dataframe tbody tr th {\n",
              "        vertical-align: top;\n",
              "    }\n",
              "\n",
              "    .dataframe thead th {\n",
              "        text-align: right;\n",
              "    }\n",
              "</style>\n",
              "<table border=\"1\" class=\"dataframe\">\n",
              "  <thead>\n",
              "    <tr style=\"text-align: right;\">\n",
              "      <th></th>\n",
              "      <th>Hours</th>\n",
              "      <th>Scores</th>\n",
              "    </tr>\n",
              "  </thead>\n",
              "  <tbody>\n",
              "    <tr>\n",
              "      <th>0</th>\n",
              "      <td>2.5</td>\n",
              "      <td>21</td>\n",
              "    </tr>\n",
              "    <tr>\n",
              "      <th>1</th>\n",
              "      <td>5.1</td>\n",
              "      <td>47</td>\n",
              "    </tr>\n",
              "    <tr>\n",
              "      <th>2</th>\n",
              "      <td>3.2</td>\n",
              "      <td>27</td>\n",
              "    </tr>\n",
              "    <tr>\n",
              "      <th>3</th>\n",
              "      <td>8.5</td>\n",
              "      <td>75</td>\n",
              "    </tr>\n",
              "    <tr>\n",
              "      <th>4</th>\n",
              "      <td>3.5</td>\n",
              "      <td>30</td>\n",
              "    </tr>\n",
              "    <tr>\n",
              "      <th>5</th>\n",
              "      <td>1.5</td>\n",
              "      <td>20</td>\n",
              "    </tr>\n",
              "    <tr>\n",
              "      <th>6</th>\n",
              "      <td>9.2</td>\n",
              "      <td>88</td>\n",
              "    </tr>\n",
              "    <tr>\n",
              "      <th>7</th>\n",
              "      <td>5.5</td>\n",
              "      <td>60</td>\n",
              "    </tr>\n",
              "    <tr>\n",
              "      <th>8</th>\n",
              "      <td>8.3</td>\n",
              "      <td>81</td>\n",
              "    </tr>\n",
              "    <tr>\n",
              "      <th>9</th>\n",
              "      <td>2.7</td>\n",
              "      <td>25</td>\n",
              "    </tr>\n",
              "  </tbody>\n",
              "</table>\n",
              "</div>"
            ],
            "text/plain": [
              "   Hours  Scores\n",
              "0    2.5      21\n",
              "1    5.1      47\n",
              "2    3.2      27\n",
              "3    8.5      75\n",
              "4    3.5      30\n",
              "5    1.5      20\n",
              "6    9.2      88\n",
              "7    5.5      60\n",
              "8    8.3      81\n",
              "9    2.7      25"
            ]
          },
          "metadata": {
            "tags": []
          },
          "execution_count": 2
        }
      ]
    },
    {
      "cell_type": "code",
      "metadata": {
        "id": "sVV848LvRnBD",
        "colab": {
          "base_uri": "https://localhost:8080/"
        },
        "outputId": "86206fe7-17ba-4826-d073-35126a40333f"
      },
      "source": [
        "data.info()"
      ],
      "execution_count": null,
      "outputs": [
        {
          "output_type": "stream",
          "text": [
            "<class 'pandas.core.frame.DataFrame'>\n",
            "RangeIndex: 25 entries, 0 to 24\n",
            "Data columns (total 2 columns):\n",
            " #   Column  Non-Null Count  Dtype  \n",
            "---  ------  --------------  -----  \n",
            " 0   Hours   25 non-null     float64\n",
            " 1   Scores  25 non-null     int64  \n",
            "dtypes: float64(1), int64(1)\n",
            "memory usage: 528.0 bytes\n"
          ],
          "name": "stdout"
        }
      ]
    },
    {
      "cell_type": "code",
      "metadata": {
        "id": "Cozlpgh3RnBE",
        "colab": {
          "base_uri": "https://localhost:8080/",
          "height": 295
        },
        "outputId": "8114996b-3202-44c9-e4be-94c4b99a6e12"
      },
      "source": [
        "data.describe()"
      ],
      "execution_count": null,
      "outputs": [
        {
          "output_type": "execute_result",
          "data": {
            "text/html": [
              "<div>\n",
              "<style scoped>\n",
              "    .dataframe tbody tr th:only-of-type {\n",
              "        vertical-align: middle;\n",
              "    }\n",
              "\n",
              "    .dataframe tbody tr th {\n",
              "        vertical-align: top;\n",
              "    }\n",
              "\n",
              "    .dataframe thead th {\n",
              "        text-align: right;\n",
              "    }\n",
              "</style>\n",
              "<table border=\"1\" class=\"dataframe\">\n",
              "  <thead>\n",
              "    <tr style=\"text-align: right;\">\n",
              "      <th></th>\n",
              "      <th>Hours</th>\n",
              "      <th>Scores</th>\n",
              "    </tr>\n",
              "  </thead>\n",
              "  <tbody>\n",
              "    <tr>\n",
              "      <th>count</th>\n",
              "      <td>25.000000</td>\n",
              "      <td>25.000000</td>\n",
              "    </tr>\n",
              "    <tr>\n",
              "      <th>mean</th>\n",
              "      <td>5.012000</td>\n",
              "      <td>51.480000</td>\n",
              "    </tr>\n",
              "    <tr>\n",
              "      <th>std</th>\n",
              "      <td>2.525094</td>\n",
              "      <td>25.286887</td>\n",
              "    </tr>\n",
              "    <tr>\n",
              "      <th>min</th>\n",
              "      <td>1.100000</td>\n",
              "      <td>17.000000</td>\n",
              "    </tr>\n",
              "    <tr>\n",
              "      <th>25%</th>\n",
              "      <td>2.700000</td>\n",
              "      <td>30.000000</td>\n",
              "    </tr>\n",
              "    <tr>\n",
              "      <th>50%</th>\n",
              "      <td>4.800000</td>\n",
              "      <td>47.000000</td>\n",
              "    </tr>\n",
              "    <tr>\n",
              "      <th>75%</th>\n",
              "      <td>7.400000</td>\n",
              "      <td>75.000000</td>\n",
              "    </tr>\n",
              "    <tr>\n",
              "      <th>max</th>\n",
              "      <td>9.200000</td>\n",
              "      <td>95.000000</td>\n",
              "    </tr>\n",
              "  </tbody>\n",
              "</table>\n",
              "</div>"
            ],
            "text/plain": [
              "           Hours     Scores\n",
              "count  25.000000  25.000000\n",
              "mean    5.012000  51.480000\n",
              "std     2.525094  25.286887\n",
              "min     1.100000  17.000000\n",
              "25%     2.700000  30.000000\n",
              "50%     4.800000  47.000000\n",
              "75%     7.400000  75.000000\n",
              "max     9.200000  95.000000"
            ]
          },
          "metadata": {
            "tags": []
          },
          "execution_count": 4
        }
      ]
    },
    {
      "cell_type": "markdown",
      "metadata": {
        "id": "MqBkpp4IRnBF"
      },
      "source": [
        "###### Let's plot our data points on 2-D graph to eyeball our dataset and see if we can manually find any relationship between the data. We can create the plot with the following script.\n",
        "\n",
        "### Step 2 : Data Visualization\n"
      ]
    },
    {
      "cell_type": "code",
      "metadata": {
        "id": "vcEBy2BERnBF",
        "colab": {
          "base_uri": "https://localhost:8080/",
          "height": 295
        },
        "outputId": "fbf379be-5ae1-4567-f2f9-9797667fa0fb"
      },
      "source": [
        "# Plotting the distribution of scores\n",
        "data.plot(x='Hours', y='Scores', style='o')\n",
        "plt.title('Hours vs Percentage')\n",
        "plt.xlabel('Hours')  \n",
        "plt.ylabel('Percentage')  \n",
        "plt.show()"
      ],
      "execution_count": null,
      "outputs": [
        {
          "output_type": "display_data",
          "data": {
            "image/png": "[encoded data removed]",
            "text/plain": [
              "<Figure size 432x288 with 1 Axes>"
            ]
          },
          "metadata": {
            "tags": [],
            "needs_background": "light"
          }
        }
      ]
    },
    {
      "cell_type": "markdown",
      "metadata": {
        "id": "WesSGjkmRnBG"
      },
      "source": [
        "###### - Before we prepare the data let's try to visualize this data differently"
      ]
    },
    {
      "cell_type": "code",
      "metadata": {
        "id": "IVtf3tkERnBI",
        "colab": {
          "base_uri": "https://localhost:8080/",
          "height": 242
        },
        "outputId": "ca790f0f-9ac1-41f1-fb4a-23e60f6735ae"
      },
      "source": [
        "# Here the heatmap shows positive correlation between the Hours column and Scores column.\n",
        "plt.figure(figsize=(7,3))\n",
        "sns.heatmap(data[['Scores','Hours']].corr(), annot = True)\n",
        "plt.title('.', fontsize = 10)\n",
        "print('The relation Matrix')\n",
        "plt.show()\n"
      ],
      "execution_count": null,
      "outputs": [
        {
          "output_type": "stream",
          "text": [
            "The relation Matrix\n"
          ],
          "name": "stdout"
        },
        {
          "output_type": "display_data",
          "data": {
            "image/png": "[encoded data removed]",
            "text/plain": [
              "<Figure size 504x216 with 2 Axes>"
            ]
          },
          "metadata": {
            "tags": [],
            "needs_background": "light"
          }
        }
      ]
    },
    {
      "cell_type": "markdown",
      "metadata": {
        "id": "sxBP87ogRnBJ"
      },
      "source": [
        "###### Now let's plot our data points on 2-D graph to eyeball our dataset and see if we can manually find any relationship between the data. We can create the plot with the following script:"
      ]
    },
    {
      "cell_type": "code",
      "metadata": {
        "id": "PD3dy0DDRnBJ",
        "colab": {
          "base_uri": "https://localhost:8080/",
          "height": 514
        },
        "outputId": "2aa70cf5-856c-44ab-caea-205fa905c8ec"
      },
      "source": [
        "data.plot(\"Hours\",\"Scores\",linestyle = \"--\",marker = \"o\",markersize = \"10\",markerfacecolor = \"red\", figsize=(10,8))\n"
      ],
      "execution_count": null,
      "outputs": [
        {
          "output_type": "execute_result",
          "data": {
            "text/plain": [
              "<matplotlib.axes._subplots.AxesSubplot at 0x7fa147999a50>"
            ]
          },
          "metadata": {
            "tags": []
          },
          "execution_count": 7
        },
        {
          "output_type": "display_data",
          "data": {
            "image/png": "[encoded data removed]",
            "text/plain": [
              "<Figure size 720x576 with 1 Axes>"
            ]
          },
          "metadata": {
            "tags": [],
            "needs_background": "light"
          }
        }
      ]
    },
    {
      "cell_type": "markdown",
      "metadata": {
        "id": "eDdigbAiRnBK"
      },
      "source": [
        "###### - From the graphs above, we can clearly see that there is a positive linear relation between the number of hours studied and percentage of score.\n"
      ]
    },
    {
      "cell_type": "markdown",
      "metadata": {
        "id": "qti5G7e9RnBK"
      },
      "source": [
        "### Step 3 : Preparing The Data\n",
        "The next step is to divide the data into \"attributes\"/\"X\" (inputs) and \"labels\"/\"Y\" (outputs)."
      ]
    },
    {
      "cell_type": "code",
      "metadata": {
        "id": "BoguDGXXRnBK"
      },
      "source": [
        "x = data.iloc[:, :-1].values\n",
        "y = data.iloc[:, 1].values"
      ],
      "execution_count": null,
      "outputs": []
    },
    {
      "cell_type": "markdown",
      "metadata": {
        "id": "XDjp3dyvRnBK"
      },
      "source": [
        "### Step 4 : Algorithm Training\n",
        "Splitting the data into training data-set and test data-set."
      ]
    },
    {
      "cell_type": "code",
      "metadata": {
        "id": "63m_Dh2rRnBL"
      },
      "source": [
        "#defining training and testing sets ## we'll let the test size be equal to 0.1\n",
        "x_train, x_test, y_train, y_test = sklearn.model_selection.train_test_split(x,y, test_size=0.1)\n"
      ],
      "execution_count": null,
      "outputs": []
    },
    {
      "cell_type": "markdown",
      "metadata": {
        "id": "SHA03qvBRnBL"
      },
      "source": [
        "Start training and saving with best accuracy the algorithm."
      ]
    },
    {
      "cell_type": "code",
      "metadata": {
        "id": "bwI5kSx2RnBL",
        "colab": {
          "base_uri": "https://localhost:8080/"
        },
        "outputId": "6907ff82-959e-4a26-c186-3ce6471850b7"
      },
      "source": [
        "best = 0\n",
        "for _ in range(15):\n",
        "    x_train, x_test, y_train, y_test = sklearn.model_selection.train_test_split(x,y, test_size=0.2)\n",
        "\n",
        "    linear = linear_model.LinearRegression()\n",
        "    linear.fit(x_train, y_train) # fit this data  to get best fit line...\n",
        "    acc = linear.score(x_test, y_test) # this will gona return the accuracy value of  out model\n",
        "    #print(\"Accuracy: \",acc) #Change in Every Run best of data size, every time different data will be used...\n",
        "\n",
        "    if acc > best:\n",
        "        best = acc\n",
        "        with open(\"student_model.pickle\", \"wb\") as f: #opening student_model.pickle in write-binary mode as f to write\n",
        "            pickle.dump(linear, f) #pickle saving the object into file\n",
        "print(\" Best Accuracy: \",best)"
      ],
      "execution_count": null,
      "outputs": [
        {
          "output_type": "stream",
          "text": [
            " Best Accuracy:  0.9722929651577237\n"
          ],
          "name": "stdout"
        }
      ]
    },
    {
      "cell_type": "markdown",
      "metadata": {
        "id": "2rzUJ7wiRnBM"
      },
      "source": [
        "##### Training Done!!\n",
        "### Step 5 :- Ploting the line of regression"
      ]
    },
    {
      "cell_type": "code",
      "metadata": {
        "id": "2zMwin0yRnBN",
        "colab": {
          "base_uri": "https://localhost:8080/",
          "height": 265
        },
        "outputId": "a2b73533-0325-4e9b-c17a-70d0ab138b58"
      },
      "source": [
        "# Plotting the regression line\n",
        "line = linear.coef_*x+linear.intercept_\n",
        "\n",
        "# Plotting for the test data\n",
        "plt.scatter (x,y)\n",
        "plt.plot (x, line, color = 'Black')\n",
        "plt.show()\n"
      ],
      "execution_count": null,
      "outputs": [
        {
          "output_type": "display_data",
          "data": {
            "image/png": "[encoded data removed]",
            "text/plain": [
              "<Figure size 432x288 with 1 Axes>"
            ]
          },
          "metadata": {
            "tags": [],
            "needs_background": "light"
          }
        }
      ]
    },
    {
      "cell_type": "markdown",
      "metadata": {
        "id": "TEWl3yUfRnBN"
      },
      "source": [
        "### Step 6 :- Making Predictions\n",
        "Now that we have trained our algorithm, it's time to make some predictions.\n"
      ]
    },
    {
      "cell_type": "code",
      "metadata": {
        "id": "PQnW_4WfRnBN",
        "colab": {
          "base_uri": "https://localhost:8080/"
        },
        "outputId": "c0e28654-babd-44f3-a2d0-d8668e19eac1"
      },
      "source": [
        "pickle_in = open(\"student_model.pickle\", \"rb\") #opening student_model.pickle in read-binary mode to read\n",
        "linear = pickle.load(pickle_in) #loading model in variable(linear)\n",
        "prediction = linear.predict(x_test)\n",
        "print(x_test,prediction)"
      ],
      "execution_count": null,
      "outputs": [
        {
          "output_type": "stream",
          "text": [
            "[[6.1]\n",
            " [2.7]\n",
            " [4.8]\n",
            " [3.8]\n",
            " [7.7]] [61.38156529 28.83327754 48.93663174 39.36360593 76.69840659]\n"
          ],
          "name": "stdout"
        }
      ]
    },
    {
      "cell_type": "code",
      "metadata": {
        "id": "kybMLFXaRnBO"
      },
      "source": [
        "### Comparing Actual vs Predicted\n",
        "data = pd.DataFrame({'Actual': y_test, 'Predicted': prediction})"
      ],
      "execution_count": null,
      "outputs": []
    },
    {
      "cell_type": "code",
      "metadata": {
        "id": "9sTCh-gaRnBO",
        "colab": {
          "base_uri": "https://localhost:8080/",
          "height": 203
        },
        "outputId": "3b18a558-44a4-48e8-a91f-c505edd90e45"
      },
      "source": [
        "data"
      ],
      "execution_count": null,
      "outputs": [
        {
          "output_type": "execute_result",
          "data": {
            "text/html": [
              "<div>\n",
              "<style scoped>\n",
              "    .dataframe tbody tr th:only-of-type {\n",
              "        vertical-align: middle;\n",
              "    }\n",
              "\n",
              "    .dataframe tbody tr th {\n",
              "        vertical-align: top;\n",
              "    }\n",
              "\n",
              "    .dataframe thead th {\n",
              "        text-align: right;\n",
              "    }\n",
              "</style>\n",
              "<table border=\"1\" class=\"dataframe\">\n",
              "  <thead>\n",
              "    <tr style=\"text-align: right;\">\n",
              "      <th></th>\n",
              "      <th>Actual</th>\n",
              "      <th>Predicted</th>\n",
              "    </tr>\n",
              "  </thead>\n",
              "  <tbody>\n",
              "    <tr>\n",
              "      <th>0</th>\n",
              "      <td>67</td>\n",
              "      <td>61.381565</td>\n",
              "    </tr>\n",
              "    <tr>\n",
              "      <th>1</th>\n",
              "      <td>25</td>\n",
              "      <td>28.833278</td>\n",
              "    </tr>\n",
              "    <tr>\n",
              "      <th>2</th>\n",
              "      <td>54</td>\n",
              "      <td>48.936632</td>\n",
              "    </tr>\n",
              "    <tr>\n",
              "      <th>3</th>\n",
              "      <td>35</td>\n",
              "      <td>39.363606</td>\n",
              "    </tr>\n",
              "    <tr>\n",
              "      <th>4</th>\n",
              "      <td>85</td>\n",
              "      <td>76.698407</td>\n",
              "    </tr>\n",
              "  </tbody>\n",
              "</table>\n",
              "</div>"
            ],
            "text/plain": [
              "   Actual  Predicted\n",
              "0      67  61.381565\n",
              "1      25  28.833278\n",
              "2      54  48.936632\n",
              "3      35  39.363606\n",
              "4      85  76.698407"
            ]
          },
          "metadata": {
            "tags": []
          },
          "execution_count": 14
        }
      ]
    },
    {
      "cell_type": "code",
      "metadata": {
        "id": "_4VyQBXGRnBO",
        "colab": {
          "base_uri": "https://localhost:8080/"
        },
        "outputId": "e9c05d8b-dda7-42a8-d6c3-fa4606e268f8"
      },
      "source": [
        "### Estimating the Training Data and Test Data Score\n",
        "print(\"Training score:\", linear.score(x_train, y_train))\n",
        "print(\"Testing score:\", linear.score(x_test, y_test))"
      ],
      "execution_count": null,
      "outputs": [
        {
          "output_type": "stream",
          "text": [
            "Training score: 0.9557574670184623\n",
            "Testing score: 0.9313569077204572\n"
          ],
          "name": "stdout"
        }
      ]
    },
    {
      "cell_type": "code",
      "metadata": {
        "id": "0EP2r6HmRnBP",
        "colab": {
          "base_uri": "https://localhost:8080/",
          "height": 374
        },
        "outputId": "a52f4d1c-39f1-49fa-e37b-c82a7ae9cb25"
      },
      "source": [
        "### Ploting the line graph to depict the diffrence between the actual and predicted value.\n",
        "data.plot(kind='line', figsize=(8,6))\n",
        "plt.grid(which='major', linewidth='0.5', color = 'black')\n",
        "plt.grid(which='major', linewidth='0.5', color = 'blue')\n",
        "plt.show()"
      ],
      "execution_count": null,
      "outputs": [
        {
          "output_type": "display_data",
          "data": {
            "image/png": "[encoded data removed]",
            "text/plain": [
              "<Figure size 576x432 with 1 Axes>"
            ]
          },
          "metadata": {
            "tags": [],
            "needs_background": "light"
          }
        }
      ]
    },
    {
      "cell_type": "markdown",
      "metadata": {
        "id": "-Ha-WBu2RnBQ"
      },
      "source": [
        "###### Predicting the output on the custom/New Data."
      ]
    },
    {
      "cell_type": "code",
      "metadata": {
        "id": "xCRsu9RIRnBQ",
        "colab": {
          "base_uri": "https://localhost:8080/"
        },
        "outputId": "0f2dca6c-128e-462e-92bf-ecfa42366082"
      },
      "source": [
        "### Testing your own data.\n",
        "hours = 9.25\n",
        "test = np.array([hours])\n",
        "test = test.reshape(-1,1)\n",
        "own_pred = linear.predict(test)\n",
        "print (\"No. of Hours = {}\".format(hours))\n",
        "print (\"Predicted Score = {}\".format(own_pred[0]))"
      ],
      "execution_count": null,
      "outputs": [
        {
          "output_type": "stream",
          "text": [
            "No. of Hours = 9.25\n",
            "Predicted Score = 91.53659659224047\n"
          ],
          "name": "stdout"
        }
      ]
    },
    {
      "cell_type": "markdown",
      "metadata": {
        "id": "S6uTcRkDRnBQ"
      },
      "source": [
        "### Step 8 : Evaluating the model\n",
        "The final step is to evaluate the performance of algorithm. This step is particularly important to compare how well different algorithms perform on a particular dataset. For simplicity here, we have chosen the mean square error. There are many such metrics."
      ]
    },
    {
      "cell_type": "code",
      "metadata": {
        "id": "1zLtljiTRnBR",
        "colab": {
          "base_uri": "https://localhost:8080/"
        },
        "outputId": "a40cf426-bce3-4542-877b-c25edfc3063b"
      },
      "source": [
        "from sklearn import metrics  \n",
        "print('Mean Absolute Error:', metrics.mean_absolute_error(y_test, prediction)) \n",
        "print('Mean Squared Error:', metrics.mean_squared_error(y_test, prediction))\n",
        "print('Root mean squared Error:', np.sqrt(metrics.mean_squared_error(y_test, prediction)))"
      ],
      "execution_count": null,
      "outputs": [
        {
          "output_type": "stream",
          "text": [
            "Mean Absolute Error: 5.436055970274163\n",
            "Mean Squared Error: 31.97120666011988\n",
            "Root mean squared Error: 5.654308681007775\n"
          ],
          "name": "stdout"
        }
      ]
    },
    {
      "cell_type": "markdown",
      "metadata": {
        "id": "rsMygusoRnBR"
      },
      "source": [
        "###### Thank You!"
      ]
    }
  ]
}